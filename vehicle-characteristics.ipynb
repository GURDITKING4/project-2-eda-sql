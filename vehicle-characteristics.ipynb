{
 "cells": [
  {
   "cell_type": "markdown",
   "id": "0d9b52cc-200b-4c5b-a927-df942ccdc228",
   "metadata": {},
   "source": [
    "# Vehicle Characteristics \n",
    "\n",
    "How does vehicle age impact the probability of a claim? \n",
    " * Older vehicles may have higher claim rates; \n",
    "plot claim rate vs. vehicle age."
   ]
  },
  {
   "cell_type": "code",
   "execution_count": 3,
   "id": "fe0a9057-ce5e-4104-8aaa-816f8eab7512",
   "metadata": {},
   "outputs": [],
   "source": [
    "import pandas as pd\n",
    "df = pd.read_csv(\"data/cleaned_data.csv\")\n",
    "df.head()"
   ]
  },
  {
   "cell_type": "code",
   "execution_count": 13,
   "id": "797f9c7e-d780-46a2-9f42-12aaf75ace40",
   "metadata": {},
   "outputs": [
    {
     "data": {
      "text/plain": [
       "0        1.2\n",
       "1        1.8\n",
       "2        0.2\n",
       "3        0.4\n",
       "4        1.0\n",
       "        ... \n",
       "58587    2.6\n",
       "58588    2.2\n",
       "58589    2.2\n",
       "58590    3.6\n",
       "58591    0.4\n",
       "Name: vehicle_age, Length: 58592, dtype: float64"
      ]
     },
     "execution_count": 13,
     "metadata": {},
     "output_type": "execute_result"
    }
   ],
   "source": [
    "df[\"vehicle_age\"]"
   ]
  },
  {
   "cell_type": "code",
   "execution_count": 14,
   "id": "dec787a2-1df0-4d12-b734-dadc3c90ec51",
   "metadata": {},
   "outputs": [
    {
     "data": {
      "text/plain": [
       "0        0\n",
       "1        0\n",
       "2        0\n",
       "3        0\n",
       "4        0\n",
       "        ..\n",
       "58587    0\n",
       "58588    0\n",
       "58589    0\n",
       "58590    0\n",
       "58591    0\n",
       "Name: claim_status, Length: 58592, dtype: int64"
      ]
     },
     "execution_count": 14,
     "metadata": {},
     "output_type": "execute_result"
    }
   ],
   "source": [
    "df[\"claim_status\"]"
   ]
  },
  {
   "cell_type": "code",
   "execution_count": 47,
   "id": "3c648144-cad7-4790-9a9c-c70a1e6ab10b",
   "metadata": {},
   "outputs": [
    {
     "data": {
      "text/html": [
       "<div>\n",
       "<style scoped>\n",
       "    .dataframe tbody tr th:only-of-type {\n",
       "        vertical-align: middle;\n",
       "    }\n",
       "\n",
       "    .dataframe tbody tr th {\n",
       "        vertical-align: top;\n",
       "    }\n",
       "\n",
       "    .dataframe thead th {\n",
       "        text-align: right;\n",
       "    }\n",
       "</style>\n",
       "<table border=\"1\" class=\"dataframe\">\n",
       "  <thead>\n",
       "    <tr style=\"text-align: right;\">\n",
       "      <th></th>\n",
       "      <th>vehicle_age</th>\n",
       "      <th>claim_rate</th>\n",
       "      <th>number_cars</th>\n",
       "    </tr>\n",
       "  </thead>\n",
       "  <tbody>\n",
       "    <tr>\n",
       "      <th>0</th>\n",
       "      <td>0</td>\n",
       "      <td>0.069431</td>\n",
       "      <td>16808</td>\n",
       "    </tr>\n",
       "    <tr>\n",
       "      <th>1</th>\n",
       "      <td>1</td>\n",
       "      <td>0.066319</td>\n",
       "      <td>17461</td>\n",
       "    </tr>\n",
       "    <tr>\n",
       "      <th>2</th>\n",
       "      <td>2</td>\n",
       "      <td>0.065085</td>\n",
       "      <td>13444</td>\n",
       "    </tr>\n",
       "    <tr>\n",
       "      <th>3</th>\n",
       "      <td>3</td>\n",
       "      <td>0.052358</td>\n",
       "      <td>8652</td>\n",
       "    </tr>\n",
       "    <tr>\n",
       "      <th>4</th>\n",
       "      <td>4</td>\n",
       "      <td>0.045480</td>\n",
       "      <td>1803</td>\n",
       "    </tr>\n",
       "    <tr>\n",
       "      <th>5</th>\n",
       "      <td>5</td>\n",
       "      <td>0.027559</td>\n",
       "      <td>254</td>\n",
       "    </tr>\n",
       "    <tr>\n",
       "      <th>6</th>\n",
       "      <td>6</td>\n",
       "      <td>0.025641</td>\n",
       "      <td>117</td>\n",
       "    </tr>\n",
       "    <tr>\n",
       "      <th>7</th>\n",
       "      <td>7</td>\n",
       "      <td>0.100000</td>\n",
       "      <td>30</td>\n",
       "    </tr>\n",
       "    <tr>\n",
       "      <th>8</th>\n",
       "      <td>8</td>\n",
       "      <td>0.000000</td>\n",
       "      <td>10</td>\n",
       "    </tr>\n",
       "    <tr>\n",
       "      <th>9</th>\n",
       "      <td>9</td>\n",
       "      <td>0.000000</td>\n",
       "      <td>5</td>\n",
       "    </tr>\n",
       "    <tr>\n",
       "      <th>10</th>\n",
       "      <td>10</td>\n",
       "      <td>0.000000</td>\n",
       "      <td>2</td>\n",
       "    </tr>\n",
       "    <tr>\n",
       "      <th>11</th>\n",
       "      <td>12</td>\n",
       "      <td>0.000000</td>\n",
       "      <td>1</td>\n",
       "    </tr>\n",
       "    <tr>\n",
       "      <th>12</th>\n",
       "      <td>16</td>\n",
       "      <td>0.000000</td>\n",
       "      <td>2</td>\n",
       "    </tr>\n",
       "    <tr>\n",
       "      <th>13</th>\n",
       "      <td>20</td>\n",
       "      <td>0.000000</td>\n",
       "      <td>3</td>\n",
       "    </tr>\n",
       "  </tbody>\n",
       "</table>\n",
       "</div>"
      ],
      "text/plain": [
       "    vehicle_age  claim_rate  number_cars\n",
       "0             0    0.069431        16808\n",
       "1             1    0.066319        17461\n",
       "2             2    0.065085        13444\n",
       "3             3    0.052358         8652\n",
       "4             4    0.045480         1803\n",
       "5             5    0.027559          254\n",
       "6             6    0.025641          117\n",
       "7             7    0.100000           30\n",
       "8             8    0.000000           10\n",
       "9             9    0.000000            5\n",
       "10           10    0.000000            2\n",
       "11           12    0.000000            1\n",
       "12           16    0.000000            2\n",
       "13           20    0.000000            3"
      ]
     },
     "execution_count": 47,
     "metadata": {},
     "output_type": "execute_result"
    }
   ],
   "source": [
    "age_claim_rate = (\n",
    "    df.groupby(df[\"vehicle_age\"].round().astype(\"Int64\"))[\"claim_status\"]\n",
    "      .agg(claim_rate=\"mean\", number_cars=\"count\")\n",
    "      .reset_index()\n",
    "      .sort_values(\"vehicle_age\")\n",
    ")\n",
    "\n",
    "age_claim_rate"
   ]
  },
  {
   "cell_type": "code",
   "execution_count": 23,
   "id": "51fcc8fb-ec82-425a-9fc1-ac04bf2de856",
   "metadata": {},
   "outputs": [
    {
     "data": {
      "text/plain": [
       "<Axes: xlabel='vehicle_age', ylabel='claim_rate'>"
      ]
     },
     "execution_count": 23,
     "metadata": {},
     "output_type": "execute_result"
    },
    {
     "data": {
      "image/png": "[encoded data removed]",
      "text/plain": [
       "<Figure size 640x480 with 1 Axes>"
      ]
     },
     "metadata": {},
     "output_type": "display_data"
    }
   ],
   "source": [
    "import seaborn as sns\n",
    "sns.lineplot(\n",
    "    data=age_claim_rate,\n",
    "    x=\"vehicle_age\",\n",
    "    y=\"claim_rate\",\n",
    "    marker=\"o\",\n",
    "    linewidth=2,\n",
    ")"
   ]
  },
  {
   "cell_type": "code",
   "execution_count": 24,
   "id": "c98bbd9a-b116-4de9-8cad-21493308dcf2",
   "metadata": {},
   "outputs": [],
   "source": [
    "#bins = [0, 2, 5, 8, 20]\n",
    "#labels = [\"0-2\", \"3-5\", \"6-8\", \"9+\"]\n",
    "\n",
    "#df[\"age_group\"] = pd.cut(df[\"vehicle_age\"], bins=bins, labels=labels, include_lowest=True)\n"
   ]
  },
  {
   "cell_type": "code",
   "execution_count": 57,
   "id": "549b9269-e04d-4d92-acac-27d3c2536b95",
   "metadata": {},
   "outputs": [
    {
     "name": "stdout",
     "output_type": "stream",
     "text": [
      "age_group\n",
      "0–2    42765\n",
      "3–5    15604\n",
      "6–8      209\n",
      "9+        14\n",
      "Name: count, dtype: int64\n"
     ]
    }
   ],
   "source": [
    "if \"age_group\" in df.columns:\n",
    "    df = df.drop(columns=[\"age_group\"])\n",
    "\n",
    "# create labels\n",
    "label_0_2 = (df[\"vehicle_age\"] <= 2) & (df[\"vehicle_age\"] >= 0)\n",
    "label_3_5 = (df[\"vehicle_age\"] > 2) & (df[\"vehicle_age\"] <= 5)\n",
    "label_6_8 = (df[\"vehicle_age\"] > 5) & (df[\"vehicle_age\"] <= 8)\n",
    "label_9plus = (df[\"vehicle_age\"] > 8)\n",
    "\n",
    "# label asigned \n",
    "df.loc[label_0_2, \"age_group\"] = \"0–2\"\n",
    "df.loc[label_3_5, \"age_group\"] = \"3–5\"\n",
    "df.loc[label_6_8, \"age_group\"] = \"6–8\"\n",
    "df.loc[label_9plus, \"age_group\"] = \"9+\"\n",
    "\n",
    "# see the result\n",
    "print(df[\"age_group\"].value_counts(dropna=False))"
   ]
  },
  {
   "cell_type": "code",
   "execution_count": 58,
   "id": "c87cacca-1917-4f63-89c6-827fc907cef0",
   "metadata": {},
   "outputs": [
    {
     "data": {
      "text/html": [
       "<div>\n",
       "<style scoped>\n",
       "    .dataframe tbody tr th:only-of-type {\n",
       "        vertical-align: middle;\n",
       "    }\n",
       "\n",
       "    .dataframe tbody tr th {\n",
       "        vertical-align: top;\n",
       "    }\n",
       "\n",
       "    .dataframe thead th {\n",
       "        text-align: right;\n",
       "    }\n",
       "</style>\n",
       "<table border=\"1\" class=\"dataframe\">\n",
       "  <thead>\n",
       "    <tr style=\"text-align: right;\">\n",
       "      <th></th>\n",
       "      <th>age_group</th>\n",
       "      <th>claim_rate</th>\n",
       "      <th>n</th>\n",
       "    </tr>\n",
       "  </thead>\n",
       "  <tbody>\n",
       "    <tr>\n",
       "      <th>0</th>\n",
       "      <td>0–2</td>\n",
       "      <td>0.067368</td>\n",
       "      <td>42765</td>\n",
       "    </tr>\n",
       "    <tr>\n",
       "      <th>1</th>\n",
       "      <td>3–5</td>\n",
       "      <td>0.055114</td>\n",
       "      <td>15604</td>\n",
       "    </tr>\n",
       "    <tr>\n",
       "      <th>2</th>\n",
       "      <td>6–8</td>\n",
       "      <td>0.033493</td>\n",
       "      <td>209</td>\n",
       "    </tr>\n",
       "    <tr>\n",
       "      <th>3</th>\n",
       "      <td>9+</td>\n",
       "      <td>0.000000</td>\n",
       "      <td>14</td>\n",
       "    </tr>\n",
       "  </tbody>\n",
       "</table>\n",
       "</div>"
      ],
      "text/plain": [
       "  age_group  claim_rate      n\n",
       "0       0–2    0.067368  42765\n",
       "1       3–5    0.055114  15604\n",
       "2       6–8    0.033493    209\n",
       "3        9+    0.000000     14"
      ]
     },
     "execution_count": 58,
     "metadata": {},
     "output_type": "execute_result"
    }
   ],
   "source": [
    "age_group_rate = (\n",
    "    df.groupby(\"age_group\", observed=True)[\"claim_status\"]\n",
    "      .agg(claim_rate=\"mean\", n=\"count\")\n",
    "      .reset_index()\n",
    ")\n",
    "age_group_rate"
   ]
  },
  {
   "cell_type": "code",
   "execution_count": 59,
   "id": "d156df5e-30e3-4006-856f-045d61efa5b2",
   "metadata": {},
   "outputs": [
    {
     "data": {
      "text/plain": [
       "<Axes: xlabel='age_group', ylabel='claim_rate'>"
      ]
     },
     "execution_count": 59,
     "metadata": {},
     "output_type": "execute_result"
    },
    {
     "data": {
      "image/png": "[encoded data removed]",
      "text/plain": [
       "<Figure size 640x480 with 1 Axes>"
      ]
     },
     "metadata": {},
     "output_type": "display_data"
    }
   ],
   "source": [
    "sns.barplot(\n",
    "    data=age_group_rate,\n",
    "    x=\"age_group\",\n",
    "    y=\"claim_rate\",\n",
    "    color=\"royalblue\"\n",
    ")\n"
   ]
  }
 ],
 "metadata": {
  "kernelspec": {
   "display_name": "Python [conda env:base] *",
   "language": "python",
   "name": "conda-base-py"
  },
  "language_info": {
   "codemirror_mode": {
    "name": "ipython",
    "version": 3
   },
   "file_extension": ".py",
   "mimetype": "text/x-python",
   "name": "python",
   "nbconvert_exporter": "python",
   "pygments_lexer": "ipython3",
   "version": "3.13.5"
  }
 },
 "nbformat": 4,
 "nbformat_minor": 5
}
