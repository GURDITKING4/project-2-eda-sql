{
 "cells": [
  {
   "cell_type": "markdown",
   "id": "0d9b52cc-200b-4c5b-a927-df942ccdc228",
   "metadata": {},
   "source": [
    "# Vehicle Characteristics \n",
    "\n",
    "## How does vehicle age impact the probability of a claim? \n",
    " * Older vehicles may have higher claim rates; \n",
    "plot claim rate vs. vehicle age."
   ]
  },
  {
   "cell_type": "code",
   "execution_count": 3,
   "id": "fe0a9057-ce5e-4104-8aaa-816f8eab7512",
   "metadata": {},
   "outputs": [
    {
     "data": {
      "text/html": [
       "<div>\n",
       "<style scoped>\n",
       "    .dataframe tbody tr th:only-of-type {\n",
       "        vertical-align: middle;\n",
       "    }\n",
       "\n",
       "    .dataframe tbody tr th {\n",
       "        vertical-align: top;\n",
       "    }\n",
       "\n",
       "    .dataframe thead th {\n",
       "        text-align: right;\n",
       "    }\n",
       "</style>\n",
       "<table border=\"1\" class=\"dataframe\">\n",
       "  <thead>\n",
       "    <tr style=\"text-align: right;\">\n",
       "      <th></th>\n",
       "      <th>policy_id</th>\n",
       "      <th>subscription_length</th>\n",
       "      <th>vehicle_age</th>\n",
       "      <th>customer_age</th>\n",
       "      <th>region_code</th>\n",
       "      <th>region_density</th>\n",
       "      <th>segment</th>\n",
       "      <th>model</th>\n",
       "      <th>fuel_type</th>\n",
       "      <th>max_torque</th>\n",
       "      <th>...</th>\n",
       "      <th>is_brake_assist</th>\n",
       "      <th>is_power_door_locks</th>\n",
       "      <th>is_central_locking</th>\n",
       "      <th>is_power_steering</th>\n",
       "      <th>is_driver_seat_height_adjustable</th>\n",
       "      <th>is_day_night_rear_view_mirror</th>\n",
       "      <th>is_ecw</th>\n",
       "      <th>is_speed_alert</th>\n",
       "      <th>ncap_rating</th>\n",
       "      <th>claim_status</th>\n",
       "    </tr>\n",
       "  </thead>\n",
       "  <tbody>\n",
       "    <tr>\n",
       "      <th>0</th>\n",
       "      <td>POL045360</td>\n",
       "      <td>9.3</td>\n",
       "      <td>1.2</td>\n",
       "      <td>41</td>\n",
       "      <td>C8</td>\n",
       "      <td>8794</td>\n",
       "      <td>C2</td>\n",
       "      <td>M4</td>\n",
       "      <td>Diesel</td>\n",
       "      <td>250Nm@2750rpm</td>\n",
       "      <td>...</td>\n",
       "      <td>Yes</td>\n",
       "      <td>Yes</td>\n",
       "      <td>Yes</td>\n",
       "      <td>Yes</td>\n",
       "      <td>Yes</td>\n",
       "      <td>No</td>\n",
       "      <td>Yes</td>\n",
       "      <td>Yes</td>\n",
       "      <td>3</td>\n",
       "      <td>0</td>\n",
       "    </tr>\n",
       "    <tr>\n",
       "      <th>1</th>\n",
       "      <td>POL016745</td>\n",
       "      <td>8.2</td>\n",
       "      <td>1.8</td>\n",
       "      <td>35</td>\n",
       "      <td>C2</td>\n",
       "      <td>27003</td>\n",
       "      <td>C1</td>\n",
       "      <td>M9</td>\n",
       "      <td>Diesel</td>\n",
       "      <td>200Nm@1750rpm</td>\n",
       "      <td>...</td>\n",
       "      <td>No</td>\n",
       "      <td>Yes</td>\n",
       "      <td>Yes</td>\n",
       "      <td>Yes</td>\n",
       "      <td>Yes</td>\n",
       "      <td>Yes</td>\n",
       "      <td>Yes</td>\n",
       "      <td>Yes</td>\n",
       "      <td>4</td>\n",
       "      <td>0</td>\n",
       "    </tr>\n",
       "    <tr>\n",
       "      <th>2</th>\n",
       "      <td>POL007194</td>\n",
       "      <td>9.5</td>\n",
       "      <td>0.2</td>\n",
       "      <td>44</td>\n",
       "      <td>C8</td>\n",
       "      <td>8794</td>\n",
       "      <td>C2</td>\n",
       "      <td>M4</td>\n",
       "      <td>Diesel</td>\n",
       "      <td>250Nm@2750rpm</td>\n",
       "      <td>...</td>\n",
       "      <td>Yes</td>\n",
       "      <td>Yes</td>\n",
       "      <td>Yes</td>\n",
       "      <td>Yes</td>\n",
       "      <td>Yes</td>\n",
       "      <td>No</td>\n",
       "      <td>Yes</td>\n",
       "      <td>Yes</td>\n",
       "      <td>3</td>\n",
       "      <td>0</td>\n",
       "    </tr>\n",
       "    <tr>\n",
       "      <th>3</th>\n",
       "      <td>POL018146</td>\n",
       "      <td>5.2</td>\n",
       "      <td>0.4</td>\n",
       "      <td>44</td>\n",
       "      <td>C10</td>\n",
       "      <td>73430</td>\n",
       "      <td>A</td>\n",
       "      <td>M1</td>\n",
       "      <td>CNG</td>\n",
       "      <td>60Nm@3500rpm</td>\n",
       "      <td>...</td>\n",
       "      <td>No</td>\n",
       "      <td>No</td>\n",
       "      <td>No</td>\n",
       "      <td>Yes</td>\n",
       "      <td>No</td>\n",
       "      <td>No</td>\n",
       "      <td>No</td>\n",
       "      <td>Yes</td>\n",
       "      <td>0</td>\n",
       "      <td>0</td>\n",
       "    </tr>\n",
       "    <tr>\n",
       "      <th>4</th>\n",
       "      <td>POL049011</td>\n",
       "      <td>10.1</td>\n",
       "      <td>1.0</td>\n",
       "      <td>56</td>\n",
       "      <td>C13</td>\n",
       "      <td>5410</td>\n",
       "      <td>B2</td>\n",
       "      <td>M5</td>\n",
       "      <td>Diesel</td>\n",
       "      <td>200Nm@3000rpm</td>\n",
       "      <td>...</td>\n",
       "      <td>No</td>\n",
       "      <td>Yes</td>\n",
       "      <td>Yes</td>\n",
       "      <td>Yes</td>\n",
       "      <td>No</td>\n",
       "      <td>No</td>\n",
       "      <td>Yes</td>\n",
       "      <td>Yes</td>\n",
       "      <td>5</td>\n",
       "      <td>0</td>\n",
       "    </tr>\n",
       "  </tbody>\n",
       "</table>\n",
       "<p>5 rows × 41 columns</p>\n",
       "</div>"
      ],
      "text/plain": [
       "   policy_id  subscription_length  vehicle_age  customer_age region_code  \\\n",
       "0  POL045360                  9.3          1.2            41          C8   \n",
       "1  POL016745                  8.2          1.8            35          C2   \n",
       "2  POL007194                  9.5          0.2            44          C8   \n",
       "3  POL018146                  5.2          0.4            44         C10   \n",
       "4  POL049011                 10.1          1.0            56         C13   \n",
       "\n",
       "   region_density segment model fuel_type     max_torque  ... is_brake_assist  \\\n",
       "0            8794      C2    M4    Diesel  250Nm@2750rpm  ...             Yes   \n",
       "1           27003      C1    M9    Diesel  200Nm@1750rpm  ...              No   \n",
       "2            8794      C2    M4    Diesel  250Nm@2750rpm  ...             Yes   \n",
       "3           73430       A    M1       CNG   60Nm@3500rpm  ...              No   \n",
       "4            5410      B2    M5    Diesel  200Nm@3000rpm  ...              No   \n",
       "\n",
       "  is_power_door_locks  is_central_locking is_power_steering  \\\n",
       "0                 Yes                 Yes               Yes   \n",
       "1                 Yes                 Yes               Yes   \n",
       "2                 Yes                 Yes               Yes   \n",
       "3                  No                  No               Yes   \n",
       "4                 Yes                 Yes               Yes   \n",
       "\n",
       "  is_driver_seat_height_adjustable is_day_night_rear_view_mirror is_ecw  \\\n",
       "0                              Yes                            No    Yes   \n",
       "1                              Yes                           Yes    Yes   \n",
       "2                              Yes                            No    Yes   \n",
       "3                               No                            No     No   \n",
       "4                               No                            No    Yes   \n",
       "\n",
       "  is_speed_alert ncap_rating  claim_status  \n",
       "0            Yes           3             0  \n",
       "1            Yes           4             0  \n",
       "2            Yes           3             0  \n",
       "3            Yes           0             0  \n",
       "4            Yes           5             0  \n",
       "\n",
       "[5 rows x 41 columns]"
      ]
     },
     "execution_count": 3,
     "metadata": {},
     "output_type": "execute_result"
    }
   ],
   "source": [
    "import pandas as pd\n",
    "df = pd.read_csv(\"data/cleaned_data.csv\")\n",
    "df.head()"
   ]
  },
  {
   "cell_type": "code",
   "execution_count": 4,
   "id": "797f9c7e-d780-46a2-9f42-12aaf75ace40",
   "metadata": {},
   "outputs": [
    {
     "data": {
      "text/plain": [
       "0        1.2\n",
       "1        1.8\n",
       "2        0.2\n",
       "3        0.4\n",
       "4        1.0\n",
       "        ... \n",
       "58587    2.6\n",
       "58588    2.2\n",
       "58589    2.2\n",
       "58590    3.6\n",
       "58591    0.4\n",
       "Name: vehicle_age, Length: 58592, dtype: float64"
      ]
     },
     "execution_count": 4,
     "metadata": {},
     "output_type": "execute_result"
    }
   ],
   "source": [
    "df[\"vehicle_age\"]"
   ]
  },
  {
   "cell_type": "code",
   "execution_count": 5,
   "id": "dec787a2-1df0-4d12-b734-dadc3c90ec51",
   "metadata": {},
   "outputs": [
    {
     "data": {
      "text/plain": [
       "0        0\n",
       "1        0\n",
       "2        0\n",
       "3        0\n",
       "4        0\n",
       "        ..\n",
       "58587    0\n",
       "58588    0\n",
       "58589    0\n",
       "58590    0\n",
       "58591    0\n",
       "Name: claim_status, Length: 58592, dtype: int64"
      ]
     },
     "execution_count": 5,
     "metadata": {},
     "output_type": "execute_result"
    }
   ],
   "source": [
    "df[\"claim_status\"]"
   ]
  },
  {
   "cell_type": "code",
   "execution_count": 6,
   "id": "3c648144-cad7-4790-9a9c-c70a1e6ab10b",
   "metadata": {},
   "outputs": [
    {
     "data": {
      "text/html": [
       "<div>\n",
       "<style scoped>\n",
       "    .dataframe tbody tr th:only-of-type {\n",
       "        vertical-align: middle;\n",
       "    }\n",
       "\n",
       "    .dataframe tbody tr th {\n",
       "        vertical-align: top;\n",
       "    }\n",
       "\n",
       "    .dataframe thead th {\n",
       "        text-align: right;\n",
       "    }\n",
       "</style>\n",
       "<table border=\"1\" class=\"dataframe\">\n",
       "  <thead>\n",
       "    <tr style=\"text-align: right;\">\n",
       "      <th></th>\n",
       "      <th>vehicle_age</th>\n",
       "      <th>claim_rate</th>\n",
       "      <th>number_cars</th>\n",
       "    </tr>\n",
       "  </thead>\n",
       "  <tbody>\n",
       "    <tr>\n",
       "      <th>0</th>\n",
       "      <td>0</td>\n",
       "      <td>0.069431</td>\n",
       "      <td>16808</td>\n",
       "    </tr>\n",
       "    <tr>\n",
       "      <th>1</th>\n",
       "      <td>1</td>\n",
       "      <td>0.066319</td>\n",
       "      <td>17461</td>\n",
       "    </tr>\n",
       "    <tr>\n",
       "      <th>2</th>\n",
       "      <td>2</td>\n",
       "      <td>0.065085</td>\n",
       "      <td>13444</td>\n",
       "    </tr>\n",
       "    <tr>\n",
       "      <th>3</th>\n",
       "      <td>3</td>\n",
       "      <td>0.052358</td>\n",
       "      <td>8652</td>\n",
       "    </tr>\n",
       "    <tr>\n",
       "      <th>4</th>\n",
       "      <td>4</td>\n",
       "      <td>0.045480</td>\n",
       "      <td>1803</td>\n",
       "    </tr>\n",
       "    <tr>\n",
       "      <th>5</th>\n",
       "      <td>5</td>\n",
       "      <td>0.027559</td>\n",
       "      <td>254</td>\n",
       "    </tr>\n",
       "    <tr>\n",
       "      <th>6</th>\n",
       "      <td>6</td>\n",
       "      <td>0.025641</td>\n",
       "      <td>117</td>\n",
       "    </tr>\n",
       "    <tr>\n",
       "      <th>7</th>\n",
       "      <td>7</td>\n",
       "      <td>0.100000</td>\n",
       "      <td>30</td>\n",
       "    </tr>\n",
       "    <tr>\n",
       "      <th>8</th>\n",
       "      <td>8</td>\n",
       "      <td>0.000000</td>\n",
       "      <td>10</td>\n",
       "    </tr>\n",
       "    <tr>\n",
       "      <th>9</th>\n",
       "      <td>9</td>\n",
       "      <td>0.000000</td>\n",
       "      <td>5</td>\n",
       "    </tr>\n",
       "    <tr>\n",
       "      <th>10</th>\n",
       "      <td>10</td>\n",
       "      <td>0.000000</td>\n",
       "      <td>2</td>\n",
       "    </tr>\n",
       "    <tr>\n",
       "      <th>11</th>\n",
       "      <td>12</td>\n",
       "      <td>0.000000</td>\n",
       "      <td>1</td>\n",
       "    </tr>\n",
       "    <tr>\n",
       "      <th>12</th>\n",
       "      <td>16</td>\n",
       "      <td>0.000000</td>\n",
       "      <td>2</td>\n",
       "    </tr>\n",
       "    <tr>\n",
       "      <th>13</th>\n",
       "      <td>20</td>\n",
       "      <td>0.000000</td>\n",
       "      <td>3</td>\n",
       "    </tr>\n",
       "  </tbody>\n",
       "</table>\n",
       "</div>"
      ],
      "text/plain": [
       "    vehicle_age  claim_rate  number_cars\n",
       "0             0    0.069431        16808\n",
       "1             1    0.066319        17461\n",
       "2             2    0.065085        13444\n",
       "3             3    0.052358         8652\n",
       "4             4    0.045480         1803\n",
       "5             5    0.027559          254\n",
       "6             6    0.025641          117\n",
       "7             7    0.100000           30\n",
       "8             8    0.000000           10\n",
       "9             9    0.000000            5\n",
       "10           10    0.000000            2\n",
       "11           12    0.000000            1\n",
       "12           16    0.000000            2\n",
       "13           20    0.000000            3"
      ]
     },
     "execution_count": 6,
     "metadata": {},
     "output_type": "execute_result"
    }
   ],
   "source": [
    "age_claim_rate = (\n",
    "    df.groupby(df[\"vehicle_age\"].round().astype(\"Int64\"))[\"claim_status\"]\n",
    "      .agg(claim_rate=\"mean\", number_cars=\"count\")\n",
    "      .reset_index()\n",
    "      .sort_values(\"vehicle_age\")\n",
    ")\n",
    "\n",
    "age_claim_rate"
   ]
  },
  {
   "cell_type": "code",
   "execution_count": 9,
   "id": "549b9269-e04d-4d92-acac-27d3c2536b95",
   "metadata": {},
   "outputs": [
    {
     "name": "stdout",
     "output_type": "stream",
     "text": [
      "age_group\n",
      "0–2    42765\n",
      "3–5    15604\n",
      "6–8      209\n",
      "9+        14\n",
      "Name: count, dtype: int64\n"
     ]
    }
   ],
   "source": [
    "if \"age_group\" in df.columns:\n",
    "    df = df.drop(columns=[\"age_group\"])\n",
    "\n",
    "# create labels\n",
    "label_0_2 = (df[\"vehicle_age\"] <= 2) & (df[\"vehicle_age\"] >= 0)\n",
    "label_3_5 = (df[\"vehicle_age\"] > 2) & (df[\"vehicle_age\"] <= 5)\n",
    "label_6_8 = (df[\"vehicle_age\"] > 5) & (df[\"vehicle_age\"] <= 8)\n",
    "label_9plus = (df[\"vehicle_age\"] > 8)\n",
    "\n",
    "# label asigned \n",
    "df.loc[label_0_2, \"age_group\"] = \"0–2\"\n",
    "df.loc[label_3_5, \"age_group\"] = \"3–5\"\n",
    "df.loc[label_6_8, \"age_group\"] = \"6–8\"\n",
    "df.loc[label_9plus, \"age_group\"] = \"9+\"\n",
    "\n",
    "# see the result\n",
    "print(df[\"age_group\"].value_counts(dropna=False))"
   ]
  },
  {
   "cell_type": "code",
   "execution_count": 10,
   "id": "c87cacca-1917-4f63-89c6-827fc907cef0",
   "metadata": {},
   "outputs": [
    {
     "data": {
      "text/html": [
       "<div>\n",
       "<style scoped>\n",
       "    .dataframe tbody tr th:only-of-type {\n",
       "        vertical-align: middle;\n",
       "    }\n",
       "\n",
       "    .dataframe tbody tr th {\n",
       "        vertical-align: top;\n",
       "    }\n",
       "\n",
       "    .dataframe thead th {\n",
       "        text-align: right;\n",
       "    }\n",
       "</style>\n",
       "<table border=\"1\" class=\"dataframe\">\n",
       "  <thead>\n",
       "    <tr style=\"text-align: right;\">\n",
       "      <th></th>\n",
       "      <th>age_group</th>\n",
       "      <th>claim_rate</th>\n",
       "      <th>n</th>\n",
       "    </tr>\n",
       "  </thead>\n",
       "  <tbody>\n",
       "    <tr>\n",
       "      <th>0</th>\n",
       "      <td>0–2</td>\n",
       "      <td>0.067368</td>\n",
       "      <td>42765</td>\n",
       "    </tr>\n",
       "    <tr>\n",
       "      <th>1</th>\n",
       "      <td>3–5</td>\n",
       "      <td>0.055114</td>\n",
       "      <td>15604</td>\n",
       "    </tr>\n",
       "    <tr>\n",
       "      <th>2</th>\n",
       "      <td>6–8</td>\n",
       "      <td>0.033493</td>\n",
       "      <td>209</td>\n",
       "    </tr>\n",
       "    <tr>\n",
       "      <th>3</th>\n",
       "      <td>9+</td>\n",
       "      <td>0.000000</td>\n",
       "      <td>14</td>\n",
       "    </tr>\n",
       "  </tbody>\n",
       "</table>\n",
       "</div>"
      ],
      "text/plain": [
       "  age_group  claim_rate      n\n",
       "0       0–2    0.067368  42765\n",
       "1       3–5    0.055114  15604\n",
       "2       6–8    0.033493    209\n",
       "3        9+    0.000000     14"
      ]
     },
     "execution_count": 10,
     "metadata": {},
     "output_type": "execute_result"
    }
   ],
   "source": [
    "age_group_rate = (\n",
    "    df.groupby(\"age_group\", observed=True)[\"claim_status\"]\n",
    "      .agg(claim_rate=\"mean\", n=\"count\")\n",
    "      .reset_index()\n",
    ")\n",
    "age_group_rate"
   ]
  },
  {
   "cell_type": "code",
   "execution_count": 11,
   "id": "d156df5e-30e3-4006-856f-045d61efa5b2",
   "metadata": {},
   "outputs": [
    {
     "data": {
      "text/plain": [
       "<Axes: xlabel='age_group', ylabel='claim_rate'>"
      ]
     },
     "execution_count": 11,
     "metadata": {},
     "output_type": "execute_result"
    },
    {
     "data": {
      "image/png": "[encoded data removed]",
      "text/plain": [
       "<Figure size 640x480 with 1 Axes>"
      ]
     },
     "metadata": {},
     "output_type": "display_data"
    }
   ],
   "source": [
    "sns.barplot(\n",
    "    data=age_group_rate,\n",
    "    x=\"age_group\",\n",
    "    y=\"claim_rate\",\n",
    "    color=\"royalblue\"\n",
    ")\n"
   ]
  },
  {
   "cell_type": "markdown",
   "id": "241e9636-eb0d-4cf2-96b7-b9e29a1c9110",
   "metadata": {},
   "source": [
    "## Do certain vehicle models have higher claim rates?\n",
    " → Rank models by average claim rate; highlight top risky models."
   ]
  },
  {
   "cell_type": "code",
   "execution_count": 12,
   "id": "a2251e6b-9d10-4c59-819f-87baa762c0cb",
   "metadata": {},
   "outputs": [
    {
     "name": "stdout",
     "output_type": "stream",
     "text": [
      "<class 'pandas.core.frame.DataFrame'>\n",
      "RangeIndex: 58592 entries, 0 to 58591\n",
      "Data columns (total 42 columns):\n",
      " #   Column                            Non-Null Count  Dtype  \n",
      "---  ------                            --------------  -----  \n",
      " 0   policy_id                         58592 non-null  object \n",
      " 1   subscription_length               58592 non-null  float64\n",
      " 2   vehicle_age                       58592 non-null  float64\n",
      " 3   customer_age                      58592 non-null  int64  \n",
      " 4   region_code                       58592 non-null  object \n",
      " 5   region_density                    58592 non-null  int64  \n",
      " 6   segment                           58592 non-null  object \n",
      " 7   model                             58592 non-null  object \n",
      " 8   fuel_type                         58592 non-null  object \n",
      " 9   max_torque                        58592 non-null  object \n",
      " 10  max_power                         58592 non-null  object \n",
      " 11  engine_type                       58592 non-null  object \n",
      " 12  airbags                           58592 non-null  int64  \n",
      " 13  is_esc                            58592 non-null  object \n",
      " 14  is_adjustable_steering            58592 non-null  object \n",
      " 15  is_tpms                           58592 non-null  object \n",
      " 16  is_parking_sensors                58592 non-null  object \n",
      " 17  is_parking_camera                 58592 non-null  object \n",
      " 18  rear_brakes_type                  58592 non-null  object \n",
      " 19  displacement                      58592 non-null  int64  \n",
      " 20  cylinder                          58592 non-null  int64  \n",
      " 21  transmission_type                 58592 non-null  object \n",
      " 22  steering_type                     58592 non-null  object \n",
      " 23  turning_radius                    58592 non-null  float64\n",
      " 24  length                            58592 non-null  int64  \n",
      " 25  width                             58592 non-null  int64  \n",
      " 26  gross_weight                      58592 non-null  int64  \n",
      " 27  is_front_fog_lights               58592 non-null  object \n",
      " 28  is_rear_window_wiper              58592 non-null  object \n",
      " 29  is_rear_window_washer             58592 non-null  object \n",
      " 30  is_rear_window_defogger           58592 non-null  object \n",
      " 31  is_brake_assist                   58592 non-null  object \n",
      " 32  is_power_door_locks               58592 non-null  object \n",
      " 33  is_central_locking                58592 non-null  object \n",
      " 34  is_power_steering                 58592 non-null  object \n",
      " 35  is_driver_seat_height_adjustable  58592 non-null  object \n",
      " 36  is_day_night_rear_view_mirror     58592 non-null  object \n",
      " 37  is_ecw                            58592 non-null  object \n",
      " 38  is_speed_alert                    58592 non-null  object \n",
      " 39  ncap_rating                       58592 non-null  int64  \n",
      " 40  claim_status                      58592 non-null  int64  \n",
      " 41  age_group                         58592 non-null  object \n",
      "dtypes: float64(3), int64(10), object(29)\n",
      "memory usage: 18.8+ MB\n",
      "None\n"
     ]
    }
   ],
   "source": [
    "print(df.info())"
   ]
  },
  {
   "cell_type": "code",
   "execution_count": 13,
   "id": "63ff9398-8f2b-48c3-8ce3-62df2bd6a37b",
   "metadata": {},
   "outputs": [
    {
     "data": {
      "text/plain": [
       "claim_status\n",
       "0    93.603222\n",
       "1     6.396778\n",
       "Name: proportion, dtype: float64"
      ]
     },
     "execution_count": 13,
     "metadata": {},
     "output_type": "execute_result"
    }
   ],
   "source": [
    "#### how many vehicles have claims \n",
    "df['claim_status'].value_counts(normalize=True) * 100\n",
    "\n"
   ]
  },
  {
   "cell_type": "code",
   "execution_count": 15,
   "id": "3c311905-23a7-4753-a91f-f5cf22884dbe",
   "metadata": {},
   "outputs": [
    {
     "data": {
      "text/plain": [
       "model\n",
       "M2     0.074074\n",
       "M5     0.072591\n",
       "M7     0.068367\n",
       "M6     0.068162\n",
       "M4     0.064275\n",
       "M9     0.062914\n",
       "M1     0.061413\n",
       "M10    0.060380\n",
       "M8     0.058471\n",
       "M3     0.053940\n",
       "M11    0.041322\n",
       "Name: claim_status, dtype: float64"
      ]
     },
     "execution_count": 15,
     "metadata": {},
     "output_type": "execute_result"
    }
   ],
   "source": [
    "claim_rate_by_model = (\n",
    "    df.groupby('model')['claim_status']\n",
    "    .mean()\n",
    "    .sort_values(ascending=False)\n",
    ")\n",
    "\n",
    "claim_rate_by_model"
   ]
  },
  {
   "cell_type": "code",
   "execution_count": 27,
   "id": "3c4fb22e-fb91-4ffa-b841-abd4a7717e86",
   "metadata": {},
   "outputs": [
    {
     "data": {
      "image/png": "[encoded data removed]",
      "text/plain": [
       "<Figure size 640x480 with 2 Axes>"
      ]
     },
     "metadata": {},
     "output_type": "display_data"
    }
   ],
   "source": [
    "import pandas as pd\n",
    "\n",
    "# Convertir la serie a DataFrame 2D\n",
    "df_heat = claim_rate_by_model.to_frame('claim_rate') * 100\n",
    "\n",
    "sns.heatmap(\n",
    "    df_heat,\n",
    "    cmap='Reds',\n",
    "    annot=True,\n",
    "    fmt=\".1f\",\n",
    "    cbar_kws={'label': '% of claims'}\n",
    ")\n",
    "plt.title('claims by models')\n",
    "plt.xlabel('Model')\n",
    "plt.ylabel('')\n",
    "plt.tight_layout()\n",
    "plt.show()"
   ]
  },
  {
   "cell_type": "markdown",
   "id": "70ecbf17-6a6d-45e0-9820-0f22b8c7259b",
   "metadata": {},
   "source": [
    "## Are vehicles with more safety features (airbags, ESC, TPMS, parking sensors, cameras) less likely to file claims?\n",
    " → Create a “safety score”; compare average claim rate across safety levels."
   ]
  },
  {
   "cell_type": "code",
   "execution_count": 30,
   "id": "e73cee65-d6c9-4a56-9267-8540da45d733",
   "metadata": {},
   "outputs": [
    {
     "data": {
      "text/plain": [
       "['airbags', 'is_esc', 'is_tpms', 'is_parking_sensors', 'is_parking_camera']"
      ]
     },
     "execution_count": 30,
     "metadata": {},
     "output_type": "execute_result"
    }
   ],
   "source": [
    "safety_features = ['airbags', 'is_esc', 'is_tpms', 'is_parking_sensors', 'is_parking_camera']\n",
    "for col in safety_features[1:]:  # excepto 'airbags', que ya es numérica\n",
    "    df[col] = df[col].map({'Yes': 1, 'No': 0})\n",
    "safety_features"
   ]
  },
  {
   "cell_type": "code",
   "execution_count": 32,
   "id": "ba942f07-d38b-4e21-87b8-8498416c0a4a",
   "metadata": {},
   "outputs": [
    {
     "data": {
      "text/plain": [
       "0        6.0\n",
       "1        2.0\n",
       "2        6.0\n",
       "3        2.0\n",
       "4        2.0\n",
       "        ... \n",
       "58587    2.0\n",
       "58588    6.0\n",
       "58589    2.0\n",
       "58590    2.0\n",
       "58591    2.0\n",
       "Name: safety_score, Length: 58592, dtype: float64"
      ]
     },
     "execution_count": 32,
     "metadata": {},
     "output_type": "execute_result"
    }
   ],
   "source": [
    "df['safety_score'] = df[safety_features].sum(axis=1)\n",
    "df['safety_score']"
   ]
  },
  {
   "cell_type": "code",
   "execution_count": 33,
   "id": "18873b4d-043b-40b1-95fe-900dfc7145c4",
   "metadata": {},
   "outputs": [
    {
     "data": {
      "text/html": [
       "<div>\n",
       "<style scoped>\n",
       "    .dataframe tbody tr th:only-of-type {\n",
       "        vertical-align: middle;\n",
       "    }\n",
       "\n",
       "    .dataframe tbody tr th {\n",
       "        vertical-align: top;\n",
       "    }\n",
       "\n",
       "    .dataframe thead th {\n",
       "        text-align: right;\n",
       "    }\n",
       "</style>\n",
       "<table border=\"1\" class=\"dataframe\">\n",
       "  <thead>\n",
       "    <tr style=\"text-align: right;\">\n",
       "      <th></th>\n",
       "      <th>safety_score</th>\n",
       "      <th>claim_status</th>\n",
       "    </tr>\n",
       "  </thead>\n",
       "  <tbody>\n",
       "    <tr>\n",
       "      <th>0</th>\n",
       "      <td>1.0</td>\n",
       "      <td>0.060380</td>\n",
       "    </tr>\n",
       "    <tr>\n",
       "      <th>1</th>\n",
       "      <td>2.0</td>\n",
       "      <td>0.063649</td>\n",
       "    </tr>\n",
       "    <tr>\n",
       "      <th>2</th>\n",
       "      <td>6.0</td>\n",
       "      <td>0.064984</td>\n",
       "    </tr>\n",
       "  </tbody>\n",
       "</table>\n",
       "</div>"
      ],
      "text/plain": [
       "   safety_score  claim_status\n",
       "0           1.0      0.060380\n",
       "1           2.0      0.063649\n",
       "2           6.0      0.064984"
      ]
     },
     "execution_count": 33,
     "metadata": {},
     "output_type": "execute_result"
    }
   ],
   "source": [
    "claim_rate_by_safety = (\n",
    "    df.groupby('safety_score')['claim_status']\n",
    "    .mean()\n",
    "    .reset_index()\n",
    ")\n",
    "claim_rate_by_safety"
   ]
  },
  {
   "cell_type": "code",
   "execution_count": 34,
   "id": "597b978a-e45e-4828-8033-4f8c00f731b9",
   "metadata": {},
   "outputs": [
    {
     "data": {
      "image/png": "[encoded data removed]",
      "text/plain": [
       "<Figure size 640x480 with 1 Axes>"
      ]
     },
     "metadata": {},
     "output_type": "display_data"
    }
   ],
   "source": [
    "sns.lineplot(\n",
    "    x='safety_score',\n",
    "    y='claim_status',\n",
    "    data=claim_rate_by_safety,\n",
    "    marker='o',\n",
    "    color='teal'\n",
    ")\n",
    "plt.title('security level relation and % claims')\n",
    "plt.xlabel('Security points')\n",
    "plt.ylabel('claims (%)')\n",
    "plt.tight_layout()\n",
    "plt.show()"
   ]
  },
  {
   "cell_type": "markdown",
   "id": "c29b2748-0456-4d03-a46e-ac1858d67db4",
   "metadata": {},
   "source": [
    "## How do different fuel types affect claim likelihood?\n",
    " → Compare claim rate by fuel type (gasoline, diesel, hybrid, electric)."
   ]
  },
  {
   "cell_type": "code",
   "execution_count": 35,
   "id": "fde7d1fc-da02-43e5-8eee-ad34f5b01608",
   "metadata": {},
   "outputs": [
    {
     "data": {
      "text/html": [
       "<div>\n",
       "<style scoped>\n",
       "    .dataframe tbody tr th:only-of-type {\n",
       "        vertical-align: middle;\n",
       "    }\n",
       "\n",
       "    .dataframe tbody tr th {\n",
       "        vertical-align: top;\n",
       "    }\n",
       "\n",
       "    .dataframe thead th {\n",
       "        text-align: right;\n",
       "    }\n",
       "</style>\n",
       "<table border=\"1\" class=\"dataframe\">\n",
       "  <thead>\n",
       "    <tr style=\"text-align: right;\">\n",
       "      <th></th>\n",
       "      <th>fuel_type</th>\n",
       "      <th>claim_status</th>\n",
       "    </tr>\n",
       "  </thead>\n",
       "  <tbody>\n",
       "    <tr>\n",
       "      <th>2</th>\n",
       "      <td>Petrol</td>\n",
       "      <td>0.066384</td>\n",
       "    </tr>\n",
       "    <tr>\n",
       "      <th>1</th>\n",
       "      <td>Diesel</td>\n",
       "      <td>0.064862</td>\n",
       "    </tr>\n",
       "    <tr>\n",
       "      <th>0</th>\n",
       "      <td>CNG</td>\n",
       "      <td>0.060748</td>\n",
       "    </tr>\n",
       "  </tbody>\n",
       "</table>\n",
       "</div>"
      ],
      "text/plain": [
       "  fuel_type  claim_status\n",
       "2    Petrol      0.066384\n",
       "1    Diesel      0.064862\n",
       "0       CNG      0.060748"
      ]
     },
     "execution_count": 35,
     "metadata": {},
     "output_type": "execute_result"
    }
   ],
   "source": [
    "import pandas as pd\n",
    "import seaborn as sns\n",
    "import matplotlib.pyplot as plt\n",
    "\n",
    "# Average claim rate by fuel type\n",
    "claim_rate_by_fuel = (\n",
    "    df.groupby('fuel_type')['claim_status']\n",
    "    .mean()\n",
    "    .reset_index()\n",
    "    .sort_values('claim_status', ascending=False)\n",
    ")\n",
    "claim_rate_by_fuel"
   ]
  },
  {
   "cell_type": "code",
   "execution_count": 37,
   "id": "50569957-d2ef-49a2-881b-4dc44ed930d5",
   "metadata": {},
   "outputs": [
    {
     "data": {
      "image/png": "[encoded data removed]",
      "text/plain": [
       "<Figure size 600x600 with 1 Axes>"
      ]
     },
     "metadata": {},
     "output_type": "display_data"
    }
   ],
   "source": [
    "plt.figure(figsize=(6, 6))\n",
    "plt.pie(\n",
    "    claim_rate_by_fuel['claim_status'],\n",
    "    labels=claim_rate_by_fuel['fuel_type'],\n",
    "    autopct='%1.1f%%',\n",
    "    startangle=90,\n",
    "    colors=sns.color_palette('viridis', len(claim_rate_by_fuel))\n",
    ")\n",
    "plt.title('% claims by fuel type')\n",
    "plt.tight_layout()\n",
    "plt.show()"
   ]
  }
 ],
 "metadata": {
  "kernelspec": {
   "display_name": "Python [conda env:base] *",
   "language": "python",
   "name": "conda-base-py"
  },
  "language_info": {
   "codemirror_mode": {
    "name": "ipython",
    "version": 3
   },
   "file_extension": ".py",
   "mimetype": "text/x-python",
   "name": "python",
   "nbconvert_exporter": "python",
   "pygments_lexer": "ipython3",
   "version": "3.13.5"
  }
 },
 "nbformat": 4,
 "nbformat_minor": 5
}
